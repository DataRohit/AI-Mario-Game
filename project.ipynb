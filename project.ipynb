{
 "cells": [
  {
   "cell_type": "markdown",
   "metadata": {},
   "source": [
    "# **1. Setup Mario Game**"
   ]
  },
  {
   "cell_type": "code",
   "execution_count": null,
   "metadata": {},
   "outputs": [],
   "source": [
    "# Basic python imports\n",
    "import os\n",
    "from pathlib import Path\n",
    "\n",
    "# Ignore warnings\n",
    "import warnings\n",
    "warnings.filterwarnings('ignore')\n",
    "\n",
    "# Imports for game\n",
    "import gym_super_mario_bros\n",
    "\n",
    "# Import for joystick wrapper\n",
    "from nes_py.wrappers import JoypadSpace\n",
    "\n",
    "# Import for simplified controls\n",
    "from gym_super_mario_bros.actions import SIMPLE_MOVEMENT"
   ]
  },
  {
   "cell_type": "code",
   "execution_count": null,
   "metadata": {},
   "outputs": [],
   "source": [
    "# Fix for JoyPadSpace reset\n",
    "JoypadSpace.reset = lambda self, **kwargs: self.env.reset(**kwargs)"
   ]
  },
  {
   "cell_type": "code",
   "execution_count": null,
   "metadata": {},
   "outputs": [],
   "source": [
    "# View the simplified actions\n",
    "print(SIMPLE_MOVEMENT)"
   ]
  },
  {
   "cell_type": "code",
   "execution_count": null,
   "metadata": {},
   "outputs": [],
   "source": [
    "# Setup the game\n",
    "env = gym_super_mario_bros.make('SuperMarioBros-v0')\n",
    "\n",
    "# Add the wrapper\n",
    "env = JoypadSpace(env, SIMPLE_MOVEMENT)"
   ]
  },
  {
   "cell_type": "code",
   "execution_count": null,
   "metadata": {},
   "outputs": [],
   "source": [
    "# View the output shape of observation space\n",
    "print(env.observation_space.shape)"
   ]
  },
  {
   "cell_type": "code",
   "execution_count": null,
   "metadata": {},
   "outputs": [],
   "source": [
    "# Print the action space\n",
    "print(env.action_space)"
   ]
  },
  {
   "cell_type": "code",
   "execution_count": null,
   "metadata": {},
   "outputs": [],
   "source": [
    "# # Variable to track if the game is done\n",
    "# done = True\n",
    "\n",
    "# # Loop for 10_000 iterations\n",
    "# for step in range(10_000):\n",
    "#     # If the game is done\n",
    "#     if done:\n",
    "#         # Reset the environment\n",
    "#         state = env.reset()\n",
    "\n",
    "#     # Render the environment\n",
    "#     env.render()\n",
    "\n",
    "#     # Take a random action\n",
    "#     state, reward, done, info = env.step(env.action_space.sample())\n",
    "\n",
    "# # Close the environment\n",
    "# env.close()"
   ]
  },
  {
   "cell_type": "markdown",
   "metadata": {},
   "source": [
    "# **2. Preprocess Environment**"
   ]
  },
  {
   "cell_type": "code",
   "execution_count": null,
   "metadata": {},
   "outputs": [],
   "source": [
    "# Import for Stacker Wrapper and Grayscale Wrapper\n",
    "from gym.wrappers import GrayScaleObservation\n",
    "\n",
    "# Import Vectorization Wrapper\n",
    "from stable_baselines3.common.vec_env import VecFrameStack, DummyVecEnv\n",
    "\n",
    "# Import matplotlib for rendering\n",
    "import matplotlib.pyplot as plt"
   ]
  },
  {
   "cell_type": "code",
   "execution_count": null,
   "metadata": {},
   "outputs": [],
   "source": [
    "# 1. Create the base environment\n",
    "env = gym_super_mario_bros.make('SuperMarioBros-v0')\n",
    "\n",
    "# 2. Simplify the controls\n",
    "env = JoypadSpace(env, SIMPLE_MOVEMENT)\n",
    "\n",
    "# 3. GrayScale Observation Wrapper\n",
    "env = GrayScaleObservation(env, keep_dim=True)\n",
    "\n",
    "# 4. Wrap the environment in a vectorized environment\n",
    "env = DummyVecEnv([lambda: env])\n",
    "\n",
    "# 5. Stack the frames\n",
    "env = VecFrameStack(env, n_stack=4, channels_order=\"last\")"
   ]
  },
  {
   "cell_type": "code",
   "execution_count": null,
   "metadata": {},
   "outputs": [],
   "source": [
    "# Reset the environment\n",
    "state = env.reset()"
   ]
  },
  {
   "cell_type": "code",
   "execution_count": null,
   "metadata": {},
   "outputs": [],
   "source": [
    "# NOTE: Run this cell multiple times to see how the environment changes\n",
    "\n",
    "# Step through the environment\n",
    "state, reward, done, info = env.step([env.action_space.sample()])\n",
    "\n",
    "# Plot the stacked frames\n",
    "plt.figure(figsize=(10, 10))\n",
    "for idx in range(state.shape[3]):\n",
    "    plt.subplot(1, state.shape[3], idx + 1)\n",
    "    plt.imshow(state[0, :, :, idx])\n",
    "    plt.axis('off')\n",
    "plt.show()"
   ]
  },
  {
   "cell_type": "markdown",
   "metadata": {},
   "source": [
    "# **3. Train the Reinforcement Learning Model**"
   ]
  },
  {
   "cell_type": "code",
   "execution_count": null,
   "metadata": {},
   "outputs": [],
   "source": [
    "# Import PPO algorithm for training\n",
    "from stable_baselines3 import PPO\n",
    "\n",
    "# Import BaseCallback class for saving models\n",
    "from stable_baselines3.common.callbacks import BaseCallback"
   ]
  },
  {
   "cell_type": "code",
   "execution_count": null,
   "metadata": {},
   "outputs": [],
   "source": [
    "# Import pytorch\n",
    "import torch\n",
    "\n",
    "# Check if GPU is available and set the device\n",
    "device = torch.device(\"cuda\" if torch.cuda.is_available() else \"cpu\")\n",
    "\n",
    "# Print the device\n",
    "print(device)"
   ]
  },
  {
   "cell_type": "code",
   "execution_count": null,
   "metadata": {},
   "outputs": [],
   "source": [
    "# Class for training and logging callback\n",
    "class TrainAndLoggingCallback(BaseCallback):\n",
    "    # Constructor\n",
    "    def __init__(self, check_freq, save_path, verbose = 1):\n",
    "        # Call the constructor of the base class\n",
    "        super(TrainAndLoggingCallback, self).__init__(verbose)\n",
    "        \n",
    "        # Add the arguments to the class members\n",
    "        self.check_freq = check_freq\n",
    "        self.save_path = save_path\n",
    "        \n",
    "    # Method to initialize the callback\n",
    "    def _init_callback(self):\n",
    "        # If the save path exists\n",
    "        if self.save_path is not None:\n",
    "            # Create the folder\n",
    "            os.makedirs(self.save_path, exist_ok=True)\n",
    "            \n",
    "    # Method to save the model\n",
    "    def _on_step(self):\n",
    "        # Check if the current step is a multiple of check_freq\n",
    "        if self.n_calls % self.check_freq == 0:\n",
    "            # Save the model\n",
    "            self.model.save(os.path.join(self.save_path, f\"model_{self.n_calls}.zip\"))\n",
    "            \n",
    "        # Return True to continue training\n",
    "        return True"
   ]
  },
  {
   "cell_type": "code",
   "execution_count": null,
   "metadata": {},
   "outputs": [],
   "source": [
    "# Initialize paths for directories\n",
    "CHECKPOINT_PATH = Path(\"./train/\")\n",
    "LOG_DIR = Path(\"./logs/\")"
   ]
  },
  {
   "cell_type": "code",
   "execution_count": null,
   "metadata": {},
   "outputs": [],
   "source": [
    "# Initialize the callback\n",
    "callback = TrainAndLoggingCallback(check_freq=50_000, save_path=CHECKPOINT_PATH)"
   ]
  },
  {
   "cell_type": "code",
   "execution_count": null,
   "metadata": {},
   "outputs": [],
   "source": [
    "# Initialize the model\n",
    "model = PPO(\"CnnPolicy\", env, verbose=1, tensorboard_log=LOG_DIR, learning_rate=1e-6, n_steps=512, device=device)"
   ]
  },
  {
   "cell_type": "code",
   "execution_count": null,
   "metadata": {},
   "outputs": [],
   "source": [
    "# # Train the model\n",
    "# model.learn(total_timesteps=10_00_000, callback=callback)"
   ]
  },
  {
   "cell_type": "markdown",
   "metadata": {},
   "source": [
    "# **4. Test the Model**"
   ]
  },
  {
   "cell_type": "code",
   "execution_count": null,
   "metadata": {},
   "outputs": [],
   "source": [
    "# Load the trained model\n",
    "model = PPO.load(os.path.join(CHECKPOINT_PATH, \"model_1000000.zip\"), env=env, device=device)"
   ]
  },
  {
   "cell_type": "code",
   "execution_count": null,
   "metadata": {},
   "outputs": [],
   "source": [
    "# Reset the environment\n",
    "state = env.reset()\n",
    "\n",
    "# Game loop\n",
    "while True:\n",
    "    # Render the environment\n",
    "    env.render()\n",
    "\n",
    "    # Get the action\n",
    "    action, _ = model.predict(state)\n",
    "\n",
    "    # Take the action\n",
    "    state, reward, done, info = env.step(action)\n",
    "\n",
    "    # If the game is done\n",
    "    if done:\n",
    "        # Reset the environment\n",
    "        state = env.reset()"
   ]
  }
 ],
 "metadata": {
  "kernelspec": {
   "display_name": "venv",
   "language": "python",
   "name": "python3"
  },
  "language_info": {
   "codemirror_mode": {
    "name": "ipython",
    "version": 3
   },
   "file_extension": ".py",
   "mimetype": "text/x-python",
   "name": "python",
   "nbconvert_exporter": "python",
   "pygments_lexer": "ipython3",
   "version": "3.9.18"
  }
 },
 "nbformat": 4,
 "nbformat_minor": 2
}
